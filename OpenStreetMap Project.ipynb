{
 "cells": [
  {
   "cell_type": "markdown",
   "metadata": {},
   "source": [
    "# OpenStreetMap Data Wrangling Project\n",
    "### Sunny Jiang 03/01/2017\n",
    "\n",
    "## Map Area\n",
    "\n",
    "Chicago, Illinois, United States\n",
    "\n",
    "I lived in Chicago for 3 years when I was in graduate school and still visit it on regular basis today. So I'm interested to dive into this dataset and test some queries.\n",
    "\n",
    "I downloaded the Chicago data extracts from [Mapzen](https://mapzen.com/data/metro-extracts/metro/chicago_illinois/) last year. But seems like it's shutting down its services. So the link doesn't work anymore... Here is the link to [OpenStreetMap](https://www.openstreetmap.org/export#map=9/41.6616/-86.9101) where Overpass API is available. \n",
    "\n",
    "## Problems Encountered in the Map\n",
    "\n",
    "I first created a sample data file using 100-th top level element from the entire Chicago data set. From the initial explore, I noticed:\n",
    "\n",
    "- Overabbreviated street names (*\"Walker Ave\", \"Randall RD\"*)\n",
    "\n",
    "\n",
    "### Overabbreviated street names\n",
    "\n",
    "I created a **update_name** function, then use **shape_element** function looping through the tags of nodes and ways. When the key is street, check whether the value meets the expected words. If not, updating the value using the mapping list.\n",
    "\n",
    "This updated all substrings, such that: *\"Walker Ave\"* becomes *\"Walker Avenue\"* and *\"Randall RD\"* becomes *\"Randall Road\"*"
   ]
  },
  {
   "cell_type": "markdown",
   "metadata": {
    "collapsed": true
   },
   "source": [
    "```python\n",
    "street_type_re = re.compile(r'\\b\\S+\\.?$', re.IGNORECASE)\n",
    "expected = [\"Street\", \"Avenue\", \"Boulevard\", \"Drive\", \"Court\", \"Place\", \"Square\", \"Lane\", \"Road\", \n",
    "            \"Trail\", \"Parkway\", \"Commons\"]\n",
    "mapping = { \"St\": \"Street\",\n",
    "            \"St.\": \"Street\",\n",
    "            \"Ave\" : \"Avenue\",\n",
    "            \"Ave.\" : \"Avenue\",\n",
    "            \"Rd\" : \"Road\",\n",
    "            \"Rd.\" : \"Road\",\n",
    "            \"RD\" : \"Road\",\n",
    "            \"Blvd\" : \"Boulevard\",\n",
    "            \"Blvd.\" : \"Boulevard\",\n",
    "            \"Cir\" : \"Circle\",\n",
    "            \"Cir.\" : \"Circle\",\n",
    "            \"Ct\" : \"Court\",\n",
    "            \"Ct.\" : \"Court\",\n",
    "            \"Dr\" : \"Drive\",\n",
    "            \"Dr.\" : \"Drive\",\n",
    "            \"Pl\" : \"Place\",\n",
    "            \"Pl.\" : \"Place\"\n",
    "            }\n",
    "\n",
    "def update_name(name, mapping):\n",
    "    m = street_type_re.search(name)\n",
    "    other_street_types = []\n",
    "    if m:\n",
    "        street_type = m.group()\n",
    "        if street_type in mapping.keys():\n",
    "            name = re.sub(street_type_re,mapping[street_type],name)\n",
    "        else:\n",
    "            other_street_types.append(street_type)\n",
    "    return name\n",
    "\n",
    "def shape_element ...\n",
    "    if tag.attrib['k'] == \"addr:street\":\n",
    "        node_tags['id'] = element.attrib['id']\n",
    "        node_tags['key'] = 'street'\n",
    "        node_tags['type'] = \"addr\"\n",
    "        node_tags['value'] = update_name(tag.attrib['v'], mapping)\n",
    "        tags.append(node_tags.copy())\n",
    "```"
   ]
  },
  {
   "cell_type": "markdown",
   "metadata": {},
   "source": [
    "## Overview of the Data\n",
    "\n",
    "### File Sizes\n",
    "\n",
    "- chicago_illinois.osm ---------- 2.1GB\n",
    "- nodes.csv --------------------- 755MB\n",
    "- nodes_tags.csv ---------------- 19MB\n",
    "- ways.csv ---------------------- 79MB\n",
    "- ways_tags.csv ----------------- 220MB\n",
    "- ways_nodes.csv ---------------- 243MB"
   ]
  },
  {
   "cell_type": "markdown",
   "metadata": {},
   "source": [
    "### Number of Nodes & Ways"
   ]
  },
  {
   "cell_type": "markdown",
   "metadata": {},
   "source": [
    "``` python\n",
    "select count(*) from nodes;  --8,792,245\n",
    "select count(*) from ways;   --1,249,804\n",
    "```"
   ]
  },
  {
   "cell_type": "markdown",
   "metadata": {},
   "source": [
    "### Number of Users\n",
    "\n",
    "There are 2936 users contributed to this data set. \"chicago-buildings\" alone contributed more than 55% of the data. While 662 of the users only contributed once."
   ]
  },
  {
   "cell_type": "markdown",
   "metadata": {},
   "source": [
    "```python\n",
    "-- distinct users for nodes and ways\n",
    "\n",
    "with cte as\n",
    "(select id, user_  from nodes\n",
    "union all\n",
    "select id, user_  from ways)\n",
    "select count(distinct user_) from cte; -- 2,936\n",
    "\n",
    "-- sort the users by the contribute frequency\n",
    "\n",
    "with cte as\n",
    "(select id, user_  from nodes\n",
    "union all\n",
    "select id, user_  from ways)\n",
    "select distinct user_, count(*) from cte\n",
    "group by user_\n",
    "order by count(*) desc;\n",
    "```"
   ]
  },
  {
   "cell_type": "markdown",
   "metadata": {},
   "source": [
    "<img src=\"top users.png\">"
   ]
  },
  {
   "cell_type": "markdown",
   "metadata": {},
   "source": [
    "### Type of cuisines\n",
    "\n",
    "Pizza and Mexican are the most popular type of cuisines!"
   ]
  },
  {
   "cell_type": "markdown",
   "metadata": {},
   "source": [
    "``` python\n",
    "with cte as\n",
    "(SELECT distinct id FROM NODES_TAGS\n",
    "where key = 'amenity'\n",
    "and value = 'restaurant')\n",
    "select value, count(*) from nodes_tags a\n",
    "join cte b\n",
    "on a.id = b.id\n",
    "where key = 'cuisine'\n",
    "group by value\n",
    "order by count(*) desc;\n",
    "```"
   ]
  },
  {
   "cell_type": "markdown",
   "metadata": {},
   "source": [
    "<img src=\"cuisine.png\">"
   ]
  },
  {
   "cell_type": "markdown",
   "metadata": {},
   "source": [
    "## Other Ideas about the Dataset\n",
    "\n",
    "### Postcode & Geographic Data\n",
    "\n",
    "Top 2 postcodes are from Evanston IL which is what we expected. While if we sort the postcode, we can see we have some postcodes actually belong to Indiana."
   ]
  },
  {
   "cell_type": "markdown",
   "metadata": {},
   "source": [
    "\n",
    "``` python\n",
    "-- postcode by frequency\n",
    "\n",
    "select distinct value, count(*) from nodes_tags\n",
    "where key = 'postcode'\n",
    "group by value\n",
    "order by count(*) desc;\n",
    "\n",
    "-- inconsistent postcodes\n",
    "\n",
    "select distinct value, count(*) from nodes_tags\n",
    "where key = 'postcode'\n",
    "group by value\n",
    "order by value;\n",
    "```"
   ]
  },
  {
   "cell_type": "markdown",
   "metadata": {},
   "source": [
    "<tr>\n",
    "<td> <img src=\"postcode frequency.png\">\n",
    "<td> <img src=\"postcode wrong.png\">\n",
    "</tr>"
   ]
  },
  {
   "cell_type": "markdown",
   "metadata": {},
   "source": [
    "So I used Tableau to plot the postcode and also latitute and longitute. From the first image we can see we have a few problematic postcodes in other parts of US. Zoom in and we can see a few more in Indiana. \n",
    "\n",
    "Then I ploted the Latitude and Longitude data of nodes. Clearly we can see this data set is filtered by geografic information!"
   ]
  },
  {
   "cell_type": "markdown",
   "metadata": {},
   "source": [
    "<tr>\n",
    "<td> <img src=\"tableau1.png\">\n",
    "<td> <img src=\"tableau2.png\">\n",
    "<td> <img src=\"tableau3.png\">\n",
    "</tr>"
   ]
  },
  {
   "cell_type": "markdown",
   "metadata": {},
   "source": [
    "Find the Min and Max of LAT & LON from nodes data. Then highlight that range in OpenStrreMap. We can see it's not only included Chicago but also a north west corner of Indiana and a few outliers in the middle of Michigan Lake. If we could just reduce the minimum Longitude from -87.066 to -87.528, the state border between Illinois and Indiana, we can greatly increase the Chicago data quanlity."
   ]
  },
  {
   "cell_type": "markdown",
   "metadata": {},
   "source": [
    "<img src=\"lat long.png\">"
   ]
  },
  {
   "cell_type": "markdown",
   "metadata": {},
   "source": [
    "<tr>\n",
    "<td> <img src=\"current lat lon.png\">\n",
    "<td> <img src=\"new lat lon.png\">\n",
    "</tr>"
   ]
  }
 ],
 "metadata": {
  "anaconda-cloud": {},
  "kernelspec": {
   "display_name": "Python [Root]",
   "language": "python",
   "name": "Python [Root]"
  },
  "language_info": {
   "codemirror_mode": {
    "name": "ipython",
    "version": 2
   },
   "file_extension": ".py",
   "mimetype": "text/x-python",
   "name": "python",
   "nbconvert_exporter": "python",
   "pygments_lexer": "ipython2",
   "version": "2.7.12"
  }
 },
 "nbformat": 4,
 "nbformat_minor": 0
}
